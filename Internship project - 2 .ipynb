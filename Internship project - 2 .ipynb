{
 "cells": [
  {
   "cell_type": "markdown",
   "metadata": {},
   "source": [
    "# Data Analytics using Python Coding Projects (2/2) - Viraj Kadia"
   ]
  },
  {
   "cell_type": "code",
   "execution_count": 1,
   "metadata": {},
   "outputs": [],
   "source": [
    "#importing the required libraries.\n",
    "import numpy as np \n",
    "import pandas as pd \n",
    "%matplotlib inline\n",
    "import matplotlib.pyplot as plt"
   ]
  },
  {
   "cell_type": "code",
   "execution_count": 2,
   "metadata": {},
   "outputs": [
    {
     "data": {
      "text/plain": [
       "(96453, 11)"
      ]
     },
     "execution_count": 2,
     "metadata": {},
     "output_type": "execute_result"
    }
   ],
   "source": [
    "#loading the dataset (dataset was provided by the company and also available on kaggle)\n",
    "df = pd.read_csv('WeatherHistory.csv')\n",
    "df.shape"
   ]
  },
  {
   "cell_type": "code",
   "execution_count": 3,
   "metadata": {},
   "outputs": [
    {
     "data": {
      "text/html": [
       "<div>\n",
       "<style scoped>\n",
       "    .dataframe tbody tr th:only-of-type {\n",
       "        vertical-align: middle;\n",
       "    }\n",
       "\n",
       "    .dataframe tbody tr th {\n",
       "        vertical-align: top;\n",
       "    }\n",
       "\n",
       "    .dataframe thead th {\n",
       "        text-align: right;\n",
       "    }\n",
       "</style>\n",
       "<table border=\"1\" class=\"dataframe\">\n",
       "  <thead>\n",
       "    <tr style=\"text-align: right;\">\n",
       "      <th></th>\n",
       "      <th>Temperature (C)</th>\n",
       "      <th>Apparent Temperature (C)</th>\n",
       "      <th>Humidity</th>\n",
       "      <th>Wind Speed (km/h)</th>\n",
       "      <th>Wind Bearing (degrees)</th>\n",
       "      <th>Visibility (km)</th>\n",
       "      <th>Pressure (millibars)</th>\n",
       "    </tr>\n",
       "  </thead>\n",
       "  <tbody>\n",
       "    <tr>\n",
       "      <th>count</th>\n",
       "      <td>96453.000000</td>\n",
       "      <td>96453.000000</td>\n",
       "      <td>96453.000000</td>\n",
       "      <td>96453.000000</td>\n",
       "      <td>96453.000000</td>\n",
       "      <td>96453.000000</td>\n",
       "      <td>96453.000000</td>\n",
       "    </tr>\n",
       "    <tr>\n",
       "      <th>mean</th>\n",
       "      <td>11.932678</td>\n",
       "      <td>10.855029</td>\n",
       "      <td>0.734899</td>\n",
       "      <td>10.810640</td>\n",
       "      <td>187.509232</td>\n",
       "      <td>10.347325</td>\n",
       "      <td>1003.235956</td>\n",
       "    </tr>\n",
       "    <tr>\n",
       "      <th>std</th>\n",
       "      <td>9.551546</td>\n",
       "      <td>10.696847</td>\n",
       "      <td>0.195473</td>\n",
       "      <td>6.913571</td>\n",
       "      <td>107.383428</td>\n",
       "      <td>4.192123</td>\n",
       "      <td>116.969906</td>\n",
       "    </tr>\n",
       "    <tr>\n",
       "      <th>min</th>\n",
       "      <td>-21.822222</td>\n",
       "      <td>-27.716667</td>\n",
       "      <td>0.000000</td>\n",
       "      <td>0.000000</td>\n",
       "      <td>0.000000</td>\n",
       "      <td>0.000000</td>\n",
       "      <td>0.000000</td>\n",
       "    </tr>\n",
       "    <tr>\n",
       "      <th>25%</th>\n",
       "      <td>4.688889</td>\n",
       "      <td>2.311111</td>\n",
       "      <td>0.600000</td>\n",
       "      <td>5.828200</td>\n",
       "      <td>116.000000</td>\n",
       "      <td>8.339800</td>\n",
       "      <td>1011.900000</td>\n",
       "    </tr>\n",
       "    <tr>\n",
       "      <th>50%</th>\n",
       "      <td>12.000000</td>\n",
       "      <td>12.000000</td>\n",
       "      <td>0.780000</td>\n",
       "      <td>9.965900</td>\n",
       "      <td>180.000000</td>\n",
       "      <td>10.046400</td>\n",
       "      <td>1016.450000</td>\n",
       "    </tr>\n",
       "    <tr>\n",
       "      <th>75%</th>\n",
       "      <td>18.838889</td>\n",
       "      <td>18.838889</td>\n",
       "      <td>0.890000</td>\n",
       "      <td>14.135800</td>\n",
       "      <td>290.000000</td>\n",
       "      <td>14.812000</td>\n",
       "      <td>1021.090000</td>\n",
       "    </tr>\n",
       "    <tr>\n",
       "      <th>max</th>\n",
       "      <td>39.905556</td>\n",
       "      <td>39.344444</td>\n",
       "      <td>1.000000</td>\n",
       "      <td>63.852600</td>\n",
       "      <td>359.000000</td>\n",
       "      <td>16.100000</td>\n",
       "      <td>1046.380000</td>\n",
       "    </tr>\n",
       "  </tbody>\n",
       "</table>\n",
       "</div>"
      ],
      "text/plain": [
       "       Temperature (C)  Apparent Temperature (C)      Humidity  \\\n",
       "count     96453.000000              96453.000000  96453.000000   \n",
       "mean         11.932678                 10.855029      0.734899   \n",
       "std           9.551546                 10.696847      0.195473   \n",
       "min         -21.822222                -27.716667      0.000000   \n",
       "25%           4.688889                  2.311111      0.600000   \n",
       "50%          12.000000                 12.000000      0.780000   \n",
       "75%          18.838889                 18.838889      0.890000   \n",
       "max          39.905556                 39.344444      1.000000   \n",
       "\n",
       "       Wind Speed (km/h)  Wind Bearing (degrees)  Visibility (km)  \\\n",
       "count       96453.000000            96453.000000     96453.000000   \n",
       "mean           10.810640              187.509232        10.347325   \n",
       "std             6.913571              107.383428         4.192123   \n",
       "min             0.000000                0.000000         0.000000   \n",
       "25%             5.828200              116.000000         8.339800   \n",
       "50%             9.965900              180.000000        10.046400   \n",
       "75%            14.135800              290.000000        14.812000   \n",
       "max            63.852600              359.000000        16.100000   \n",
       "\n",
       "       Pressure (millibars)  \n",
       "count          96453.000000  \n",
       "mean            1003.235956  \n",
       "std              116.969906  \n",
       "min                0.000000  \n",
       "25%             1011.900000  \n",
       "50%             1016.450000  \n",
       "75%             1021.090000  \n",
       "max             1046.380000  "
      ]
     },
     "execution_count": 3,
     "metadata": {},
     "output_type": "execute_result"
    }
   ],
   "source": [
    "#looking at the dataset\n",
    "df.describe()"
   ]
  },
  {
   "cell_type": "code",
   "execution_count": 4,
   "metadata": {},
   "outputs": [
    {
     "data": {
      "text/plain": [
       "0       2006-03-31 22:00:00+00:00\n",
       "1       2006-03-31 23:00:00+00:00\n",
       "2       2006-04-01 00:00:00+00:00\n",
       "3       2006-04-01 01:00:00+00:00\n",
       "4       2006-04-01 02:00:00+00:00\n",
       "                   ...           \n",
       "96448   2016-09-09 17:00:00+00:00\n",
       "96449   2016-09-09 18:00:00+00:00\n",
       "96450   2016-09-09 19:00:00+00:00\n",
       "96451   2016-09-09 20:00:00+00:00\n",
       "96452   2016-09-09 21:00:00+00:00\n",
       "Name: Formatted Date, Length: 96453, dtype: datetime64[ns, UTC]"
      ]
     },
     "execution_count": 4,
     "metadata": {},
     "output_type": "execute_result"
    }
   ],
   "source": [
    "#formatting the date column.\n",
    "df['Formatted Date'] = pd.to_datetime(df['Formatted Date'], utc=True)\n",
    "df['Formatted Date']"
   ]
  },
  {
   "cell_type": "code",
   "execution_count": 5,
   "metadata": {},
   "outputs": [
    {
     "data": {
      "text/plain": [
       "Formatted Date              datetime64[ns, UTC]\n",
       "Summary                                  object\n",
       "Precip Type                              object\n",
       "Temperature (C)                         float64\n",
       "Apparent Temperature (C)                float64\n",
       "Humidity                                float64\n",
       "Wind Speed (km/h)                       float64\n",
       "Wind Bearing (degrees)                    int64\n",
       "Visibility (km)                         float64\n",
       "Pressure (millibars)                    float64\n",
       "Daily Summary                            object\n",
       "dtype: object"
      ]
     },
     "execution_count": 5,
     "metadata": {},
     "output_type": "execute_result"
    }
   ],
   "source": [
    "#checking all the features and their datatype\n",
    "df.dtypes"
   ]
  },
  {
   "cell_type": "code",
   "execution_count": 6,
   "metadata": {},
   "outputs": [
    {
     "data": {
      "text/html": [
       "<div>\n",
       "<style scoped>\n",
       "    .dataframe tbody tr th:only-of-type {\n",
       "        vertical-align: middle;\n",
       "    }\n",
       "\n",
       "    .dataframe tbody tr th {\n",
       "        vertical-align: top;\n",
       "    }\n",
       "\n",
       "    .dataframe thead th {\n",
       "        text-align: right;\n",
       "    }\n",
       "</style>\n",
       "<table border=\"1\" class=\"dataframe\">\n",
       "  <thead>\n",
       "    <tr style=\"text-align: right;\">\n",
       "      <th></th>\n",
       "      <th>Summary</th>\n",
       "      <th>Precip Type</th>\n",
       "      <th>Temperature (C)</th>\n",
       "      <th>Apparent Temperature (C)</th>\n",
       "      <th>Humidity</th>\n",
       "      <th>Wind Speed (km/h)</th>\n",
       "      <th>Wind Bearing (degrees)</th>\n",
       "      <th>Visibility (km)</th>\n",
       "      <th>Pressure (millibars)</th>\n",
       "      <th>Daily Summary</th>\n",
       "    </tr>\n",
       "    <tr>\n",
       "      <th>Formatted Date</th>\n",
       "      <th></th>\n",
       "      <th></th>\n",
       "      <th></th>\n",
       "      <th></th>\n",
       "      <th></th>\n",
       "      <th></th>\n",
       "      <th></th>\n",
       "      <th></th>\n",
       "      <th></th>\n",
       "      <th></th>\n",
       "    </tr>\n",
       "  </thead>\n",
       "  <tbody>\n",
       "    <tr>\n",
       "      <th>2006-03-31 22:00:00+00:00</th>\n",
       "      <td>Partly Cloudy</td>\n",
       "      <td>rain</td>\n",
       "      <td>9.472222</td>\n",
       "      <td>7.388889</td>\n",
       "      <td>0.89</td>\n",
       "      <td>14.1197</td>\n",
       "      <td>251</td>\n",
       "      <td>15.8263</td>\n",
       "      <td>1015.13</td>\n",
       "      <td>Partly cloudy throughout the day.</td>\n",
       "    </tr>\n",
       "    <tr>\n",
       "      <th>2006-03-31 23:00:00+00:00</th>\n",
       "      <td>Partly Cloudy</td>\n",
       "      <td>rain</td>\n",
       "      <td>9.355556</td>\n",
       "      <td>7.227778</td>\n",
       "      <td>0.86</td>\n",
       "      <td>14.2646</td>\n",
       "      <td>259</td>\n",
       "      <td>15.8263</td>\n",
       "      <td>1015.63</td>\n",
       "      <td>Partly cloudy throughout the day.</td>\n",
       "    </tr>\n",
       "    <tr>\n",
       "      <th>2006-04-01 00:00:00+00:00</th>\n",
       "      <td>Mostly Cloudy</td>\n",
       "      <td>rain</td>\n",
       "      <td>9.377778</td>\n",
       "      <td>9.377778</td>\n",
       "      <td>0.89</td>\n",
       "      <td>3.9284</td>\n",
       "      <td>204</td>\n",
       "      <td>14.9569</td>\n",
       "      <td>1015.94</td>\n",
       "      <td>Partly cloudy throughout the day.</td>\n",
       "    </tr>\n",
       "    <tr>\n",
       "      <th>2006-04-01 01:00:00+00:00</th>\n",
       "      <td>Partly Cloudy</td>\n",
       "      <td>rain</td>\n",
       "      <td>8.288889</td>\n",
       "      <td>5.944444</td>\n",
       "      <td>0.83</td>\n",
       "      <td>14.1036</td>\n",
       "      <td>269</td>\n",
       "      <td>15.8263</td>\n",
       "      <td>1016.41</td>\n",
       "      <td>Partly cloudy throughout the day.</td>\n",
       "    </tr>\n",
       "    <tr>\n",
       "      <th>2006-04-01 02:00:00+00:00</th>\n",
       "      <td>Mostly Cloudy</td>\n",
       "      <td>rain</td>\n",
       "      <td>8.755556</td>\n",
       "      <td>6.977778</td>\n",
       "      <td>0.83</td>\n",
       "      <td>11.0446</td>\n",
       "      <td>259</td>\n",
       "      <td>15.8263</td>\n",
       "      <td>1016.51</td>\n",
       "      <td>Partly cloudy throughout the day.</td>\n",
       "    </tr>\n",
       "  </tbody>\n",
       "</table>\n",
       "</div>"
      ],
      "text/plain": [
       "                                 Summary Precip Type  Temperature (C)  \\\n",
       "Formatted Date                                                          \n",
       "2006-03-31 22:00:00+00:00  Partly Cloudy        rain         9.472222   \n",
       "2006-03-31 23:00:00+00:00  Partly Cloudy        rain         9.355556   \n",
       "2006-04-01 00:00:00+00:00  Mostly Cloudy        rain         9.377778   \n",
       "2006-04-01 01:00:00+00:00  Partly Cloudy        rain         8.288889   \n",
       "2006-04-01 02:00:00+00:00  Mostly Cloudy        rain         8.755556   \n",
       "\n",
       "                           Apparent Temperature (C)  Humidity  \\\n",
       "Formatted Date                                                  \n",
       "2006-03-31 22:00:00+00:00                  7.388889      0.89   \n",
       "2006-03-31 23:00:00+00:00                  7.227778      0.86   \n",
       "2006-04-01 00:00:00+00:00                  9.377778      0.89   \n",
       "2006-04-01 01:00:00+00:00                  5.944444      0.83   \n",
       "2006-04-01 02:00:00+00:00                  6.977778      0.83   \n",
       "\n",
       "                           Wind Speed (km/h)  Wind Bearing (degrees)  \\\n",
       "Formatted Date                                                         \n",
       "2006-03-31 22:00:00+00:00            14.1197                     251   \n",
       "2006-03-31 23:00:00+00:00            14.2646                     259   \n",
       "2006-04-01 00:00:00+00:00             3.9284                     204   \n",
       "2006-04-01 01:00:00+00:00            14.1036                     269   \n",
       "2006-04-01 02:00:00+00:00            11.0446                     259   \n",
       "\n",
       "                           Visibility (km)  Pressure (millibars)  \\\n",
       "Formatted Date                                                     \n",
       "2006-03-31 22:00:00+00:00          15.8263               1015.13   \n",
       "2006-03-31 23:00:00+00:00          15.8263               1015.63   \n",
       "2006-04-01 00:00:00+00:00          14.9569               1015.94   \n",
       "2006-04-01 01:00:00+00:00          15.8263               1016.41   \n",
       "2006-04-01 02:00:00+00:00          15.8263               1016.51   \n",
       "\n",
       "                                               Daily Summary  \n",
       "Formatted Date                                                \n",
       "2006-03-31 22:00:00+00:00  Partly cloudy throughout the day.  \n",
       "2006-03-31 23:00:00+00:00  Partly cloudy throughout the day.  \n",
       "2006-04-01 00:00:00+00:00  Partly cloudy throughout the day.  \n",
       "2006-04-01 01:00:00+00:00  Partly cloudy throughout the day.  \n",
       "2006-04-01 02:00:00+00:00  Partly cloudy throughout the day.  "
      ]
     },
     "execution_count": 6,
     "metadata": {},
     "output_type": "execute_result"
    }
   ],
   "source": [
    "df = df.set_index('Formatted Date')\n",
    "df.head()"
   ]
  },
  {
   "cell_type": "code",
   "execution_count": 7,
   "metadata": {},
   "outputs": [
    {
     "data": {
      "text/html": [
       "<div>\n",
       "<style scoped>\n",
       "    .dataframe tbody tr th:only-of-type {\n",
       "        vertical-align: middle;\n",
       "    }\n",
       "\n",
       "    .dataframe tbody tr th {\n",
       "        vertical-align: top;\n",
       "    }\n",
       "\n",
       "    .dataframe thead th {\n",
       "        text-align: right;\n",
       "    }\n",
       "</style>\n",
       "<table border=\"1\" class=\"dataframe\">\n",
       "  <thead>\n",
       "    <tr style=\"text-align: right;\">\n",
       "      <th></th>\n",
       "      <th>Apparent Temperature (C)</th>\n",
       "      <th>Humidity</th>\n",
       "    </tr>\n",
       "    <tr>\n",
       "      <th>Formatted Date</th>\n",
       "      <th></th>\n",
       "      <th></th>\n",
       "    </tr>\n",
       "  </thead>\n",
       "  <tbody>\n",
       "    <tr>\n",
       "      <th>2005-12-01 00:00:00+00:00</th>\n",
       "      <td>-4.050000</td>\n",
       "      <td>0.890000</td>\n",
       "    </tr>\n",
       "    <tr>\n",
       "      <th>2006-01-01 00:00:00+00:00</th>\n",
       "      <td>-4.173708</td>\n",
       "      <td>0.834610</td>\n",
       "    </tr>\n",
       "    <tr>\n",
       "      <th>2006-02-01 00:00:00+00:00</th>\n",
       "      <td>-2.990716</td>\n",
       "      <td>0.843467</td>\n",
       "    </tr>\n",
       "    <tr>\n",
       "      <th>2006-03-01 00:00:00+00:00</th>\n",
       "      <td>1.969780</td>\n",
       "      <td>0.778737</td>\n",
       "    </tr>\n",
       "    <tr>\n",
       "      <th>2006-04-01 00:00:00+00:00</th>\n",
       "      <td>12.098827</td>\n",
       "      <td>0.728625</td>\n",
       "    </tr>\n",
       "  </tbody>\n",
       "</table>\n",
       "</div>"
      ],
      "text/plain": [
       "                           Apparent Temperature (C)  Humidity\n",
       "Formatted Date                                               \n",
       "2005-12-01 00:00:00+00:00                 -4.050000  0.890000\n",
       "2006-01-01 00:00:00+00:00                 -4.173708  0.834610\n",
       "2006-02-01 00:00:00+00:00                 -2.990716  0.843467\n",
       "2006-03-01 00:00:00+00:00                  1.969780  0.778737\n",
       "2006-04-01 00:00:00+00:00                 12.098827  0.728625"
      ]
     },
     "execution_count": 7,
     "metadata": {},
     "output_type": "execute_result"
    }
   ],
   "source": [
    "#converting the Timezone to +00:00 UTC\n",
    "data_columns = ['Apparent Temperature (C)', 'Humidity']\n",
    "df_monthly_mean = df[data_columns].resample('MS').mean()\n",
    "df_monthly_mean.head()"
   ]
  },
  {
   "cell_type": "code",
   "execution_count": 8,
   "metadata": {},
   "outputs": [
    {
     "data": {
      "text/plain": [
       "<matplotlib.axes._subplots.AxesSubplot at 0x1cee105e550>"
      ]
     },
     "execution_count": 8,
     "metadata": {},
     "output_type": "execute_result"
    },
    {
     "data": {
      "image/png": "[encoded data removed]",
      "text/plain": [
       "<Figure size 1008x432 with 1 Axes>"
      ]
     },
     "metadata": {
      "needs_background": "light"
     },
     "output_type": "display_data"
    }
   ],
   "source": [
    "#In is final step we will plot the data to for the analysis\n",
    "\n",
    "#Firstly we will plot the whole dataset for all months\n",
    "import seaborn as sns\n",
    "import warnings\n",
    "warnings.filterwarnings(\"ignore\")\n",
    "plt.figure(figsize=(14,6))\n",
    "plt.title(\"Variation in Apparent Temperature and Humidity with time\")\n",
    "sns.lineplot(data=df_monthly_mean)"
   ]
  },
  {
   "cell_type": "code",
   "execution_count": 9,
   "metadata": {},
   "outputs": [
    {
     "name": "stdout",
     "output_type": "stream",
     "text": [
      "                           Apparent Temperature (C)  Humidity\n",
      "Formatted Date                                               \n",
      "2006-04-01 00:00:00+00:00                 12.098827  0.728625\n",
      "2007-04-01 00:00:00+00:00                 11.894421  0.536361\n",
      "2008-04-01 00:00:00+00:00                 11.183688  0.693194\n",
      "2009-04-01 00:00:00+00:00                 14.267076  0.567847\n",
      "2010-04-01 00:00:00+00:00                 11.639406  0.706875\n",
      "2011-04-01 00:00:00+00:00                 12.978997  0.591625\n",
      "2012-04-01 00:00:00+00:00                 11.782770  0.650222\n",
      "2013-04-01 00:00:00+00:00                 12.045563  0.677667\n",
      "2014-04-01 00:00:00+00:00                 12.486181  0.691403\n",
      "2015-04-01 00:00:00+00:00                 10.632801  0.547764\n",
      "2016-04-01 00:00:00+00:00                 12.731427  0.659972\n"
     ]
    },
    {
     "data": {
      "text/plain": [
       "Apparent Temperature (C)    float64\n",
       "Humidity                    float64\n",
       "dtype: object"
      ]
     },
     "execution_count": 9,
     "metadata": {},
     "output_type": "execute_result"
    }
   ],
   "source": [
    "df1 = df_monthly_mean[df_monthly_mean.index.month==4]\n",
    "print(df1)\n",
    "df1.dtypes"
   ]
  },
  {
   "cell_type": "code",
   "execution_count": 10,
   "metadata": {},
   "outputs": [
    {
     "data": {
      "text/plain": [
       "Text(0.5, 1.0, 'humidity v/s apperent temperature')"
      ]
     },
     "execution_count": 10,
     "metadata": {},
     "output_type": "execute_result"
    },
    {
     "data": {
      "image/png": "[encoded data removed]",
      "text/plain": [
       "<Figure size 1080x360 with 1 Axes>"
      ]
     },
     "metadata": {
      "needs_background": "light"
     },
     "output_type": "display_data"
    }
   ],
   "source": [
    "#Now we will plot graph for a specific month(April).\n",
    "import matplotlib.dates as mdates\n",
    "fig, ax = plt.subplots(figsize=(15,5))\n",
    "ax.plot(df1.loc['2006-04-01':'2016-04-01', 'Apparent Temperature (C)'], marker='o', linestyle='-',label='Apparent Temperature (C)')\n",
    "ax.plot(df1.loc['2006-04-01':'2016-04-01', 'Humidity'], marker='o', linestyle='-',label='Humidity')\n",
    "ax.legend(loc = 'center right', fontsize = 15)\n",
    "ax.set_xlabel('Month of April', fontsize = 15)\n",
    "ax.set_title(\"humidity v/s apperent temperature\", fontsize = 15)"
   ]
  },
  {
   "cell_type": "markdown",
   "metadata": {},
   "source": [
    "# Observation :\n",
    "No change in average humidity over the ten years from 2006 to 2016. Increase in average apparent temperature can be seen in the year 2009 then again it dropped in 2010 , then a slight increase in 2011 then a significant drop is observed in 2015 and again it increased in 2016."
   ]
  },
  {
   "cell_type": "markdown",
   "metadata": {},
   "source": [
    "Given:\n",
    "\n",
    "The Null Hypothesis H0 is \"Has the Apparent temperature and humidity compared monthly across 10 years of the data indicate an increase due to Global warming\".\n",
    "\n",
    "The Alternative Hypothesis H1 is \"Has the Apparent temperature and humidity compared monthly across 10 years of the data not indicate an increase due to Global warming\".\n",
    "\n",
    "Conclusion:\n",
    "By analysing the temperature changes, it is evident that there is no continuous rise or fall and even humidity has has been nearly constant throughtout 2006-2016 Therefore we can conclude that H0 is not accepted, so we will accept the H1."
   ]
  },
  {
   "cell_type": "code",
   "execution_count": null,
   "metadata": {},
   "outputs": [],
   "source": []
  }
 ],
 "metadata": {
  "kernelspec": {
   "display_name": "Python 3",
   "language": "python",
   "name": "python3"
  },
  "language_info": {
   "codemirror_mode": {
    "name": "ipython",
    "version": 3
   },
   "file_extension": ".py",
   "mimetype": "text/x-python",
   "name": "python",
   "nbconvert_exporter": "python",
   "pygments_lexer": "ipython3",
   "version": "3.8.3"
  }
 },
 "nbformat": 4,
 "nbformat_minor": 4
}
